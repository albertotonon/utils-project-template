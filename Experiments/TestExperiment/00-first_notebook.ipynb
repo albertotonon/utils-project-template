{
 "cells": [
  {
   "cell_type": "markdown",
   "id": "41abfc67-ab10-412b-b48e-1d08a529f32a",
   "metadata": {},
   "source": [
    "# My First Notebook\n",
    "\n",
    "Here is the first notebook of your project's experiments. Here is how to import your notebooks library:"
   ]
  },
  {
   "cell_type": "code",
   "execution_count": 1,
   "id": "97abde63-5951-4f5d-9e50-c48ed34710c9",
   "metadata": {},
   "outputs": [
    {
     "name": "stdout",
     "output_type": "stream",
     "text": [
      "Environment written in \"/Users/albton/Projects/Utilities/Utils-ExperimentRepoTemplate/.envrc\"\n"
     ]
    }
   ],
   "source": [
    "from projectutils.notebooks import *"
   ]
  },
  {
   "cell_type": "markdown",
   "id": "0c7a96b9-3479-4870-ae73-aa1062676532",
   "metadata": {},
   "source": [
    "## Here is how you can access to the common paths defined in `/Libs/projectutils/projectutils/notebooks/paths.py`:"
   ]
  },
  {
   "cell_type": "code",
   "execution_count": 2,
   "id": "19484413-58a5-4f9b-aa4e-e3f2b7cdf21e",
   "metadata": {},
   "outputs": [
    {
     "data": {
      "text/plain": [
       "PosixPath('/Users/albton/Projects/Utilities/Utils-ExperimentRepoTemplate')"
      ]
     },
     "execution_count": 2,
     "metadata": {},
     "output_type": "execute_result"
    }
   ],
   "source": [
    "paths.project_dir"
   ]
  },
  {
   "cell_type": "code",
   "execution_count": 3,
   "id": "de35cfdf-b0ef-4348-884a-2eaab1a2f357",
   "metadata": {},
   "outputs": [
    {
     "data": {
      "text/plain": [
       "PosixPath('/Users/albton/Projects/Utilities/Utils-ExperimentRepoTemplate/Data')"
      ]
     },
     "execution_count": 3,
     "metadata": {},
     "output_type": "execute_result"
    }
   ],
   "source": [
    "paths.data_root"
   ]
  },
  {
   "cell_type": "markdown",
   "id": "5072d0b0-e10f-48d5-9a0b-9220cfa32d11",
   "metadata": {},
   "source": [
    "## Alternatively, you can import everything with a name to use autocomplete ;)"
   ]
  },
  {
   "cell_type": "code",
   "execution_count": 4,
   "id": "e5ef4407-a820-47b1-8135-c4921ce266dc",
   "metadata": {},
   "outputs": [],
   "source": [
    "from projectutils import notebooks as utils"
   ]
  },
  {
   "cell_type": "code",
   "execution_count": 5,
   "id": "4fa579de-3c8a-4049-8276-7c41ab5bb94d",
   "metadata": {},
   "outputs": [
    {
     "data": {
      "text/plain": [
       "<function projectutils.data.s24io.cast_types(raw_data: pandas.core.frame.DataFrame)>"
      ]
     },
     "execution_count": 5,
     "metadata": {},
     "output_type": "execute_result"
    }
   ],
   "source": [
    "utils.cast_types"
   ]
  },
  {
   "cell_type": "markdown",
   "id": "364e0e02-e114-43ca-9f26-2d08b15abb67",
   "metadata": {},
   "source": [
    "## Here is how to access information about the experiment environment defined in `.envrc`"
   ]
  },
  {
   "cell_type": "code",
   "execution_count": 6,
   "id": "f2159115-6b4f-45a5-8ce8-76fbb147c992",
   "metadata": {},
   "outputs": [
    {
     "name": "stdout",
     "output_type": "stream",
     "text": [
      "Environment written in \"/Users/albton/Projects/Utilities/Utils-ExperimentRepoTemplate/Experiments/TestExperiment/.envrc\"\n"
     ]
    }
   ],
   "source": [
    "from exputils import env"
   ]
  },
  {
   "cell_type": "code",
   "execution_count": 7,
   "id": "b6af2da6-2df6-40ee-b46f-cda487e37a73",
   "metadata": {},
   "outputs": [
    {
     "data": {
      "text/plain": [
       "PosixPath('/Users/albton/Projects/Utilities/Utils-ExperimentRepoTemplate/Data/TestExperiment/datasets')"
      ]
     },
     "execution_count": 7,
     "metadata": {},
     "output_type": "execute_result"
    }
   ],
   "source": [
    "env.dataset_dir"
   ]
  },
  {
   "cell_type": "code",
   "execution_count": 8,
   "id": "7f848342-a878-44dc-a0e7-4f0111a8620c",
   "metadata": {},
   "outputs": [
    {
     "data": {
      "text/plain": [
       "PosixPath('/Users/albton/Projects/Utilities/Utils-ExperimentRepoTemplate/Data/TestExperiment')"
      ]
     },
     "execution_count": 8,
     "metadata": {},
     "output_type": "execute_result"
    }
   ],
   "source": [
    "env.experiment_data_dir"
   ]
  },
  {
   "cell_type": "code",
   "execution_count": 9,
   "id": "c110f942-112d-4d4a-90cd-226aa8b2e665",
   "metadata": {},
   "outputs": [
    {
     "data": {
      "text/plain": [
       "PosixPath('/Users/albton/Projects/Utilities/Utils-ExperimentRepoTemplate/Experiments/TestExperiment')"
      ]
     },
     "execution_count": 9,
     "metadata": {},
     "output_type": "execute_result"
    }
   ],
   "source": [
    "env.experiment_dir"
   ]
  },
  {
   "cell_type": "code",
   "execution_count": null,
   "id": "4523f625-2e5a-4833-ac0b-0a02601260e6",
   "metadata": {},
   "outputs": [],
   "source": []
  }
 ],
 "metadata": {
  "kernelspec": {
   "display_name": "Python 3 (ipykernel)",
   "language": "python",
   "name": "python3"
  },
  "language_info": {
   "codemirror_mode": {
    "name": "ipython",
    "version": 3
   },
   "file_extension": ".py",
   "mimetype": "text/x-python",
   "name": "python",
   "nbconvert_exporter": "python",
   "pygments_lexer": "ipython3",
   "version": "3.10.6"
  }
 },
 "nbformat": 4,
 "nbformat_minor": 5
}
